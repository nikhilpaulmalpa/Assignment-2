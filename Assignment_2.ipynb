{
  "nbformat": 4,
  "nbformat_minor": 0,
  "metadata": {
    "colab": {
      "provenance": []
    },
    "kernelspec": {
      "name": "python3",
      "display_name": "Python 3"
    },
    "language_info": {
      "name": "python"
    }
  },
  "cells": [
    {
      "cell_type": "markdown",
      "source": [
        "# Data Types and Structures Questions"
      ],
      "metadata": {
        "id": "ptCPk2TylMvu"
      }
    },
    {
      "cell_type": "markdown",
      "source": [
        "1. What are data structures, and why are they important?\n",
        "   - Python data structures like lists, dictionaries, sets, and tuples organize data, making coding faster by efficiently managing storage, sorting, and access.  \n",
        "\n",
        "2. Explain the difference between mutable and immutable data types with examples.  \n",
        "   - Mutable types (e.g., lists) can change after creation; immutable types (e.g., tuples) cannot. Example: [1, 2] -> [1, 3] (mutable), (1, 2) (immutable).  \n",
        "\n",
        "3. What are the main differences between lists and tuples in Python?*  \n",
        "   - Lists are mutable with [ ], while tuples are immutable with ( ). Lists are flexible and slower; tuples are faster and fixed.  \n",
        "\n",
        "4. Describe how dictionaries store data.*  \n",
        "   - Dictionaries store key-value pairs in { }, with unique keys linking to values. Example: {\"name\": \"Alice\", \"age\": 25}.  \n",
        "\n",
        "5. Why might you use a set instead of a list in Python?*  \n",
        "   - Sets ensure unique items and remove duplicates automatically, making them faster for membership checks. Example: {1, 2, 3}.  \n",
        "\n",
        "6. What is a string in Python, and how is it different from a list?*  \n",
        "   - Strings are immutable sequences of characters (e.g., \"hello\"), while lists are mutable and can store different types like [1, \"hi\", 3].  \n",
        "\n",
        "7. How do tuples ensure data integrity in Python?*  \n",
        "   - Tuples are immutable, preventing accidental changes, making them reliable for constant data, e.g., (1, 2, 3).  \n",
        "\n",
        "8. What is a hash table, and how does it relate to dictionaries in Python?*  \n",
        "   - A hash table stores data as key-value pairs. Dictionaries use hash tables for fast lookups and efficient storage.  \n",
        "\n",
        "9. Can lists contain different data types in Python?*  \n",
        "   - Yes, lists can hold numbers, strings, and other objects together, offering flexibility.  \n",
        "\n",
        "10. Explain why strings are immutable in Python.*  \n",
        "    - Strings are immutable to ensure consistency and prevent accidental changes. Modifications create new strings.  \n",
        "\n",
        "11. What advantages do dictionaries offer over lists for certain tasks?*  \n",
        "    - Dictionaries provide fast lookups with keys and organize data meaningfully, e.g., {\"name\": \"Alice\"}.  \n",
        "\n",
        "12. Describe a scenario where using a tuple would be preferable over a list.*  \n",
        "    - Use tuples for unchangeable data like coordinates (10, 20) or days of the week.  \n",
        "\n",
        "13. How do sets handle duplicate values in Python?\n",
        "    - Sets remove duplicates automatically. {1, 2, 2, 3} becomes {1, 2, 3}, keeping only unique items.  \n",
        "\n",
        "14. How does the “in” keyword work differently for lists and dictionaries?\n",
        "    - In lists, it checks for values, e.g., 3 in [1, 2, 3]. In dictionaries, it checks for keys, e.g., 'name' in {'name': 'Alice'}.  \n",
        "\n",
        "15. Can you modify the elements of a tuple? Explain why or why not.\n",
        "    - No, tuples are immutable, so their elements cannot change. This ensures data integrity.  \n",
        "\n",
        "16. What is a nested dictionary, and give an example of its use case.\n",
        "    - A nested dictionary has dictionaries inside it, e.g., {\"student1\": {\"name\": \"Alice\"}, \"student2\": {\"name\": \"Bob\"}}.  \n",
        "\n",
        "17. Describe the time complexity of accessing elements in a dictionary.  \n",
        "    - Dictionary lookups are fast with O(1) time complexity, using hashing to locate keys.  \n",
        "\n",
        "18. In what situations are lists preferred over dictionaries?\n",
        "    - Lists are better for ordered data or when key-value pairs aren’t needed, e.g., [1, 2, 3].  \n",
        "\n",
        "19. Why are dictionaries considered unordered, and how does that affect data retrieval?\n",
        "    - Dictionaries use hashing, not order, for fast key-based retrieval. Order doesn’t affect performance.  \n",
        "\n",
        "20. Explain the difference between a list and a dictionary in terms of data retrieval.\n",
        "    - Lists use indexes (my_list[0]); dictionaries use keys (my_dict[\"name\"]).\n",
        "    "
      ],
      "metadata": {
        "id": "gF4swqjigNaV"
      }
    },
    {
      "cell_type": "markdown",
      "source": [
        "# Practical Questions\n"
      ],
      "metadata": {
        "id": "5Z4ZUJkDlUey"
      }
    },
    {
      "cell_type": "markdown",
      "source": [
        "1. Write a code to create a string with your name and print it.\n",
        "\n"
      ],
      "metadata": {
        "id": "mwrfAeZPlZ3v"
      }
    },
    {
      "cell_type": "code",
      "source": [
        "print(\"my name is nikhil\")"
      ],
      "metadata": {
        "colab": {
          "base_uri": "https://localhost:8080/"
        },
        "id": "D_Cxx00blKOF",
        "outputId": "22047b3d-0277-47cd-c49f-64346372803e"
      },
      "execution_count": null,
      "outputs": [
        {
          "output_type": "stream",
          "name": "stdout",
          "text": [
            "my name is nikhil\n"
          ]
        }
      ]
    },
    {
      "cell_type": "markdown",
      "source": [
        "2.: Write a code to find the length of the string \"Hello World\"."
      ],
      "metadata": {
        "id": "oQhuinhCmLkt"
      }
    },
    {
      "cell_type": "code",
      "source": [
        "string=\"Hello World\"\n",
        "print(len(string))"
      ],
      "metadata": {
        "colab": {
          "base_uri": "https://localhost:8080/"
        },
        "id": "mp8girGFmAsP",
        "outputId": "f2f97271-e3e1-46a8-8bf2-ba57712ee213"
      },
      "execution_count": null,
      "outputs": [
        {
          "output_type": "stream",
          "name": "stdout",
          "text": [
            "11\n"
          ]
        }
      ]
    },
    {
      "cell_type": "markdown",
      "source": [
        "3. Write a code to slice the first 3 characters from the string \"Python Programming\".\n"
      ],
      "metadata": {
        "id": "IyJvs8rAnhEj"
      }
    },
    {
      "cell_type": "code",
      "source": [
        "string=\"Python Programming\"\n",
        "sliced_stirng=string[:3]\n",
        "print(sliced_stirng)"
      ],
      "metadata": {
        "colab": {
          "base_uri": "https://localhost:8080/"
        },
        "id": "TzG5zEFPnNDb",
        "outputId": "d56478e4-c267-43c5-b62a-7cd11f217f13"
      },
      "execution_count": null,
      "outputs": [
        {
          "output_type": "stream",
          "name": "stdout",
          "text": [
            "Pyt\n"
          ]
        }
      ]
    },
    {
      "cell_type": "markdown",
      "source": [
        "4.Write a code to convert the string \"hello\" to uppercase?"
      ],
      "metadata": {
        "id": "g5SZb5JyqjsC"
      }
    },
    {
      "cell_type": "code",
      "source": [
        "string=\"hello\"\n",
        "string_uppercase=string.upper()\n",
        "print(string_uppercase)"
      ],
      "metadata": {
        "colab": {
          "base_uri": "https://localhost:8080/"
        },
        "id": "3YjtvOcvoyzL",
        "outputId": "578fce78-bdba-405d-c8f0-7b200a349a63"
      },
      "execution_count": null,
      "outputs": [
        {
          "output_type": "stream",
          "name": "stdout",
          "text": [
            "HELLO\n"
          ]
        }
      ]
    },
    {
      "cell_type": "markdown",
      "source": [
        "5.Write a code to replace the word \"apple\" with \"orange\" in the string \"I like apple\"?"
      ],
      "metadata": {
        "id": "4H6vk40SsFgX"
      }
    },
    {
      "cell_type": "code",
      "source": [
        "string=\"I like apple\"\n",
        "new_string=string.replace(\"apple\",\"orange\")\n",
        "print(new_string)"
      ],
      "metadata": {
        "colab": {
          "base_uri": "https://localhost:8080/"
        },
        "id": "UvT0UEEarYbK",
        "outputId": "21d19709-db6f-40c6-8434-5794bcb6a4d1"
      },
      "execution_count": null,
      "outputs": [
        {
          "output_type": "stream",
          "name": "stdout",
          "text": [
            "I like orange\n"
          ]
        }
      ]
    },
    {
      "cell_type": "markdown",
      "source": [
        "6. Write a code to create a list with numbers 1 to 5 and print it?\n"
      ],
      "metadata": {
        "id": "xBXjT5_puIQ9"
      }
    },
    {
      "cell_type": "code",
      "source": [
        "numbers=[1,2,3,4,5]\n",
        "print(numbers)"
      ],
      "metadata": {
        "colab": {
          "base_uri": "https://localhost:8080/"
        },
        "id": "RjvCiXK9uFHq",
        "outputId": "87f995ac-8619-49b2-d6d2-9427de18d22d"
      },
      "execution_count": null,
      "outputs": [
        {
          "output_type": "stream",
          "name": "stdout",
          "text": [
            "[1, 2, 3, 4, 5]\n"
          ]
        }
      ]
    },
    {
      "cell_type": "markdown",
      "source": [
        "7.Write a code to append the number 10 to the list [1, 2, 3, 4]?"
      ],
      "metadata": {
        "id": "ru_BMRq7vTRj"
      }
    },
    {
      "cell_type": "code",
      "source": [
        "numbers=[1,2,3,4]\n",
        "numbers.append(10)\n",
        "print(numbers)"
      ],
      "metadata": {
        "colab": {
          "base_uri": "https://localhost:8080/"
        },
        "id": "FiKN-bp3vARq",
        "outputId": "37c4a7ab-aef6-455d-8797-3c691b8df6d3"
      },
      "execution_count": null,
      "outputs": [
        {
          "output_type": "stream",
          "name": "stdout",
          "text": [
            "[1, 2, 3, 4, 10]\n"
          ]
        }
      ]
    },
    {
      "cell_type": "markdown",
      "source": [
        "8.Write a code to remove the number 3 from the list [1, 2, 3, 4, 5]?"
      ],
      "metadata": {
        "id": "_zQArpGJxecI"
      }
    },
    {
      "cell_type": "code",
      "source": [
        "numbers=[1,2,3,4,5]\n",
        "numbers.remove(3)\n",
        "print(numbers)"
      ],
      "metadata": {
        "colab": {
          "base_uri": "https://localhost:8080/"
        },
        "id": "5ibLIs9fw6i6",
        "outputId": "2fe3b672-8505-439a-c839-ce1096a86e28"
      },
      "execution_count": null,
      "outputs": [
        {
          "output_type": "stream",
          "name": "stdout",
          "text": [
            "[1, 2, 4, 5]\n"
          ]
        }
      ]
    },
    {
      "cell_type": "markdown",
      "source": [
        "9.Write a code to access the second element in the list ['a', 'b', 'c', 'd']?"
      ],
      "metadata": {
        "id": "YKKTCNYayRAf"
      }
    },
    {
      "cell_type": "code",
      "source": [
        "letters=['a','b','c','d']\n",
        "second_element=letters[1]\n",
        "print(second_element)"
      ],
      "metadata": {
        "colab": {
          "base_uri": "https://localhost:8080/"
        },
        "id": "NA3D-qDYyKMd",
        "outputId": "ca220b93-4b75-4d07-80e3-f697f7a80a68"
      },
      "execution_count": null,
      "outputs": [
        {
          "output_type": "stream",
          "name": "stdout",
          "text": [
            "b\n"
          ]
        }
      ]
    },
    {
      "cell_type": "markdown",
      "source": [
        " 10.Write a code to reverse the list [10, 20, 30, 40, 50]. 10.Write a code to reverse the list [10, 20, 30, 40, 50]."
      ],
      "metadata": {
        "id": "wp8zSTVyzeqM"
      }
    },
    {
      "cell_type": "code",
      "source": [
        "numbers=[10,20,30,40,50]\n",
        "numbers.reverse()\n",
        "print(numbers)"
      ],
      "metadata": {
        "colab": {
          "base_uri": "https://localhost:8080/"
        },
        "id": "Cy_9-NJxzS8h",
        "outputId": "68debcba-a2bb-4048-c718-b771e7d0428a"
      },
      "execution_count": null,
      "outputs": [
        {
          "output_type": "stream",
          "name": "stdout",
          "text": [
            "[50, 40, 30, 20, 10]\n"
          ]
        }
      ]
    },
    {
      "cell_type": "markdown",
      "source": [
        "11. Write a code to create a tuple with the elements 10, 20, 30 and print it?"
      ],
      "metadata": {
        "id": "mZUeYRlz1Dp8"
      }
    },
    {
      "cell_type": "code",
      "source": [
        "numbers=(10, 20, 30)\n",
        "print(numbers)"
      ],
      "metadata": {
        "colab": {
          "base_uri": "https://localhost:8080/"
        },
        "id": "mytUEz7VztrS",
        "outputId": "10db0762-3595-467e-925f-c76a9c9637d4"
      },
      "execution_count": null,
      "outputs": [
        {
          "output_type": "stream",
          "name": "stdout",
          "text": [
            "(10, 20, 30)\n"
          ]
        }
      ]
    },
    {
      "cell_type": "markdown",
      "source": [
        "12. Write a code to access the first element of the tuple ('apple', 'banana', 'cherry')."
      ],
      "metadata": {
        "id": "sbTkBLAa1q34"
      }
    },
    {
      "cell_type": "code",
      "source": [
        "fruits=('apple', 'banana', 'cherry')\n",
        "print(fruits[0])"
      ],
      "metadata": {
        "colab": {
          "base_uri": "https://localhost:8080/"
        },
        "id": "V1yb94DN1l7P",
        "outputId": "5c414df2-ea3e-41c4-8338-6874d29be0fd"
      },
      "execution_count": null,
      "outputs": [
        {
          "output_type": "stream",
          "name": "stdout",
          "text": [
            "apple\n"
          ]
        }
      ]
    },
    {
      "cell_type": "markdown",
      "source": [
        "13. Write a code to count how many times the number 2 appears in the tuple (1, 2, 3, 2, 4, 2)."
      ],
      "metadata": {
        "id": "PI-YQH4415Ac"
      }
    },
    {
      "cell_type": "code",
      "source": [
        "numbers = (1, 2, 3, 2, 4, 2)\n",
        "print(numbers.count(2))"
      ],
      "metadata": {
        "colab": {
          "base_uri": "https://localhost:8080/"
        },
        "id": "TUFcX9K21zbZ",
        "outputId": "e90c90fe-6497-4768-cc9f-ce7889402d5d"
      },
      "execution_count": null,
      "outputs": [
        {
          "output_type": "stream",
          "name": "stdout",
          "text": [
            "3\n"
          ]
        }
      ]
    },
    {
      "cell_type": "markdown",
      "source": [
        "14. Write a code to find the index of the element \"cat\" in the tuple ('dog', 'cat', 'rabbit').?"
      ],
      "metadata": {
        "id": "mbZ16Gup2PSZ"
      }
    },
    {
      "cell_type": "code",
      "source": [
        "animals = ('dog', 'cat', 'rabbit')\n",
        "print(animals.index('cat'))"
      ],
      "metadata": {
        "colab": {
          "base_uri": "https://localhost:8080/"
        },
        "id": "MXF0MdAJ2JsD",
        "outputId": "ef0c7ee0-cb81-474b-dba2-1071c4633e64"
      },
      "execution_count": null,
      "outputs": [
        {
          "output_type": "stream",
          "name": "stdout",
          "text": [
            "1\n"
          ]
        }
      ]
    },
    {
      "cell_type": "markdown",
      "source": [
        "15. Write a code to check if the element \"banana\" is in the tuple ('apple', 'orange', 'banana').?"
      ],
      "metadata": {
        "id": "gxAT6Uii2ZNT"
      }
    },
    {
      "cell_type": "code",
      "source": [
        "fruits = ('apple', 'orange', 'banana')\n",
        "print('banana' in fruits)"
      ],
      "metadata": {
        "colab": {
          "base_uri": "https://localhost:8080/"
        },
        "id": "M8vYwSEN2YJZ",
        "outputId": "3135463c-7275-4a29-909e-b04563969213"
      },
      "execution_count": null,
      "outputs": [
        {
          "output_type": "stream",
          "name": "stdout",
          "text": [
            "True\n"
          ]
        }
      ]
    },
    {
      "cell_type": "markdown",
      "source": [
        "16. Create a set with the elements 1, 2, 3, 4, 5 and print it.?"
      ],
      "metadata": {
        "id": "PKQeZedT2o4i"
      }
    },
    {
      "cell_type": "code",
      "source": [
        "numbers = {1, 2, 3, 4, 5}\n",
        "print(numbers)"
      ],
      "metadata": {
        "colab": {
          "base_uri": "https://localhost:8080/"
        },
        "id": "gSuOw8r02gW1",
        "outputId": "be67fd44-4c00-4cfa-d14a-0e339de2a073"
      },
      "execution_count": null,
      "outputs": [
        {
          "output_type": "stream",
          "name": "stdout",
          "text": [
            "{1, 2, 3, 4, 5}\n"
          ]
        }
      ]
    },
    {
      "cell_type": "markdown",
      "source": [
        "17. Add the element 6 to the set {1, 2, 3, 4}?"
      ],
      "metadata": {
        "id": "vUQwUqem265Y"
      }
    },
    {
      "cell_type": "code",
      "source": [
        "numbers = {1, 2, 3, 4}\n",
        "numbers.add(6)\n",
        "print(numbers)"
      ],
      "metadata": {
        "colab": {
          "base_uri": "https://localhost:8080/"
        },
        "id": "kUzlGIyj20uI",
        "outputId": "6a22de4d-47e3-41b3-9943-ba9278f5a756"
      },
      "execution_count": null,
      "outputs": [
        {
          "output_type": "stream",
          "name": "stdout",
          "text": [
            "{1, 2, 3, 4, 6}\n"
          ]
        }
      ]
    },
    {
      "cell_type": "markdown",
      "source": [
        "18. Create a tuple with the elements 10, 20, 30 and print it.\n"
      ],
      "metadata": {
        "id": "W-CFigaG3fhS"
      }
    },
    {
      "cell_type": "code",
      "source": [
        "numbers = (10, 20, 30)\n",
        "print(numbers)"
      ],
      "metadata": {
        "colab": {
          "base_uri": "https://localhost:8080/"
        },
        "id": "-4cZmucF3UeX",
        "outputId": "865ae518-1d0c-4e88-aded-04c742cddf1f"
      },
      "execution_count": null,
      "outputs": [
        {
          "output_type": "stream",
          "name": "stdout",
          "text": [
            "(10, 20, 30)\n"
          ]
        }
      ]
    },
    {
      "cell_type": "markdown",
      "source": [
        "19. Access the first element of the tuple ('apple', 'banana', 'cherry').\n"
      ],
      "metadata": {
        "id": "RSMaQTgT3qkv"
      }
    },
    {
      "cell_type": "code",
      "source": [
        "fruits = ('apple', 'banana', 'cherry')\n",
        "print(fruits[0])"
      ],
      "metadata": {
        "colab": {
          "base_uri": "https://localhost:8080/"
        },
        "id": "r6j4BRyr3oEN",
        "outputId": "5684d35d-284d-4a89-c2d1-1243ed59dd57"
      },
      "execution_count": null,
      "outputs": [
        {
          "output_type": "stream",
          "name": "stdout",
          "text": [
            "apple\n"
          ]
        }
      ]
    },
    {
      "cell_type": "markdown",
      "source": [
        "20. Count how many times the number 2 appears in the tuple (1, 2, 3, 2, 4, 2)."
      ],
      "metadata": {
        "id": "LMVu_7OJ331B"
      }
    },
    {
      "cell_type": "code",
      "source": [
        "numbers = (1, 2, 3, 2, 4, 2)\n",
        "print(numbers.count(2))"
      ],
      "metadata": {
        "colab": {
          "base_uri": "https://localhost:8080/"
        },
        "id": "WquT3avE3ypx",
        "outputId": "b1485617-9da1-4ddc-c51d-bdd1a75789ab"
      },
      "execution_count": null,
      "outputs": [
        {
          "output_type": "stream",
          "name": "stdout",
          "text": [
            "3\n"
          ]
        }
      ]
    },
    {
      "cell_type": "markdown",
      "source": [
        "21. Find the index of the element \"cat\" in the tuple ('dog', 'cat', 'rabbit')."
      ],
      "metadata": {
        "id": "nVuH86q54KEt"
      }
    },
    {
      "cell_type": "code",
      "source": [
        "animals = ('dog', 'cat', 'rabbit')\n",
        "print(animals.index('cat'))"
      ],
      "metadata": {
        "colab": {
          "base_uri": "https://localhost:8080/"
        },
        "id": "DCtjG9BY4ExB",
        "outputId": "696c50b5-8202-47a0-9f62-559195fd8a10"
      },
      "execution_count": null,
      "outputs": [
        {
          "output_type": "stream",
          "name": "stdout",
          "text": [
            "1\n"
          ]
        }
      ]
    },
    {
      "cell_type": "markdown",
      "source": [
        " 22. Check if the element \"banana\" is in the tuple ('apple', 'orange', 'banana')."
      ],
      "metadata": {
        "id": "q1DLl84q4cma"
      }
    },
    {
      "cell_type": "code",
      "source": [
        "fruits = ('apple', 'orange', 'banana')\n",
        "print('banana' in fruits)"
      ],
      "metadata": {
        "colab": {
          "base_uri": "https://localhost:8080/"
        },
        "id": "vC1QiAyM4UYZ",
        "outputId": "cadc76d0-e4ca-4280-9430-51781ebbed47"
      },
      "execution_count": null,
      "outputs": [
        {
          "output_type": "stream",
          "name": "stdout",
          "text": [
            "True\n"
          ]
        }
      ]
    },
    {
      "cell_type": "markdown",
      "source": [
        "23. Create a set with the elements 1, 2, 3, 4, 5 and print it."
      ],
      "metadata": {
        "id": "ylwROUtA4mAq"
      }
    },
    {
      "cell_type": "code",
      "source": [
        "numbers = {1, 2, 3, 4, 5}\n",
        "print(numbers)"
      ],
      "metadata": {
        "colab": {
          "base_uri": "https://localhost:8080/"
        },
        "id": "b54duqZO4hIY",
        "outputId": "da6b6bc7-2360-4184-9b08-c65007a83b05"
      },
      "execution_count": null,
      "outputs": [
        {
          "output_type": "stream",
          "name": "stdout",
          "text": [
            "{1, 2, 3, 4, 5}\n"
          ]
        }
      ]
    },
    {
      "cell_type": "markdown",
      "source": [
        "24. Add the element 6 to the set {1, 2, 3, 4}."
      ],
      "metadata": {
        "id": "sRmBtGDt4ywu"
      }
    },
    {
      "cell_type": "code",
      "source": [
        "numbers = {1, 2, 3, 4}\n",
        "numbers.add(6)\n",
        "print(numbers)"
      ],
      "metadata": {
        "colab": {
          "base_uri": "https://localhost:8080/"
        },
        "id": "mytV3Hg54rJb",
        "outputId": "e855b870-f4dc-43bc-9636-5ee67cf8134a"
      },
      "execution_count": null,
      "outputs": [
        {
          "output_type": "stream",
          "name": "stdout",
          "text": [
            "{1, 2, 3, 4, 6}\n"
          ]
        }
      ]
    }
  ]
}